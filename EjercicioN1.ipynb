{
  "nbformat": 4,
  "nbformat_minor": 0,
  "metadata": {
    "colab": {
      "name": "EjercicioN1.ipynb",
      "provenance": [],
      "authorship_tag": "ABX9TyMRKEm57U+W1jZhRlVl6xi6",
      "include_colab_link": true
    },
    "kernelspec": {
      "name": "ir",
      "display_name": "R"
    }
  },
  "cells": [
    {
      "cell_type": "markdown",
      "metadata": {
        "id": "view-in-github",
        "colab_type": "text"
      },
      "source": [
        "<a href=\"https://colab.research.google.com/github/santiagoeguren/Prueba3/blob/main/EjercicioN1.ipynb\" target=\"_parent\"><img src=\"https://colab.research.google.com/assets/colab-badge.svg\" alt=\"Open In Colab\"/></a>"
      ]
    },
    {
      "cell_type": "markdown",
      "metadata": {
        "id": "xJBYqwVdOqzN"
      },
      "source": [
        "**Ejercicio Nº1**. En una empresa se evalúa la cantidad de reclamos por tardanza en el envío de los productos. Se requiere analizar la frecuencia de ocurrencia de los reclamos. Para ello se tomó una muestra de 32 envíos."
      ]
    },
    {
      "cell_type": "code",
      "metadata": {
        "id": "jaOPetETOAkZ"
      },
      "source": [
        "muestra=c(\"a tiempo\", \"retraso\",\"a tiempo\",\"a tiempo\",\"a tiempo\",\"a tiempo\", \"retraso\",\n",
        "         \"retraso\",\"a tiempo\", \"retraso\",\"a tiempo\",\"a tiempo\",\"a tiempo\",\"a tiempo\",\n",
        "         \"retraso\",\"retraso\",\"a tiempo\", \"retraso\",\"a tiempo\",\"a tiempo\", \"retraso\",\n",
        "         \"a tiempo\",\"a tiempo\",\"a tiempo\",\"a tiempo\",\"a tiempo\",\"a tiempo\",\"retraso\",\n",
        "         \"a tiempo\",\"a tiempo\",\"retraso\",\"a tiempo\")"
      ],
      "execution_count": 1,
      "outputs": []
    },
    {
      "cell_type": "code",
      "metadata": {
        "colab": {
          "base_uri": "https://localhost:8080/",
          "height": 34
        },
        "id": "NmnbY3mLO06q",
        "outputId": "073916fe-6900-4ebb-872c-5bcf8889c4f9"
      },
      "source": [
        "#Contrar \"a tiempo\"\n",
        "\n",
        "a_tiempo=muestra\n",
        "\n",
        "a_tiempo[a_tiempo==\"a tiempo\"]=1   \n",
        "a_tiempo[a_tiempo==\"retraso\"]=0  \n",
        "\n",
        "a_tiempo=as.numeric(a_tiempo)\n",
        "\n",
        "#cantidad a tiempo\n",
        "sum(a_tiempo)"
      ],
      "execution_count": 2,
      "outputs": [
        {
          "output_type": "display_data",
          "data": {
            "text/plain": [
              "[1] 22"
            ],
            "text/latex": "22",
            "text/markdown": "22",
            "text/html": [
              "22"
            ]
          },
          "metadata": {
            "tags": []
          }
        }
      ]
    },
    {
      "cell_type": "code",
      "metadata": {
        "colab": {
          "base_uri": "https://localhost:8080/",
          "height": 34
        },
        "id": "-MQeGaJzPEVO",
        "outputId": "b485a0a6-1d80-48ff-9768-a1d73a70c6b1"
      },
      "source": [
        "#Contrar \"retraso\"\n",
        "\n",
        "32-22\n",
        "\n",
        "\n",
        "#Armar vector con frecuencia absoluta\n",
        "\n",
        "frecuencia_absoluta=c(10,22)\n",
        "\n",
        "#Armar vector con frecuencia relativa\n",
        "\n",
        "frecuencia_relativa=frecuencia_absoluta/32"
      ],
      "execution_count": 3,
      "outputs": [
        {
          "output_type": "display_data",
          "data": {
            "text/plain": [
              "[1] 10"
            ],
            "text/latex": "10",
            "text/markdown": "10",
            "text/html": [
              "10"
            ]
          },
          "metadata": {
            "tags": []
          }
        }
      ]
    },
    {
      "cell_type": "code",
      "metadata": {
        "id": "2pJQ5ROWPIx8"
      },
      "source": [
        "#Armar vector con clase\n",
        "\n",
        "Clase=c(\"retraso\",\"a tiempo\")\n",
        "\n",
        "#Armar frafico de barras\n",
        "\n",
        "Distribucion_frecuencia=data.frame(Clase=Clase,frecuencia_absoluta=frecuencia_absoluta,\n",
        "                                   frecuencia_relativa=frecuencia_relativa)\n"
      ],
      "execution_count": 4,
      "outputs": []
    },
    {
      "cell_type": "code",
      "metadata": {
        "colab": {
          "base_uri": "https://localhost:8080/",
          "height": 437
        },
        "id": "hOSzxMaePQhv",
        "outputId": "ffd8e2c9-3ce0-4437-958a-03f1b9e06274"
      },
      "source": [
        "#Grafico de barra\n",
        "\n",
        "barplot(frecuencia_relativa,names.arg =c(\"retraso\",\"a tiempo\"))"
      ],
      "execution_count": 5,
      "outputs": [
        {
          "output_type": "display_data",
          "data": {
            "image/png": "[encoded data removed]",
            "text/plain": [
              "plot without title"
            ]
          },
          "metadata": {
            "tags": [],
            "image/png": {
              "width": 420,
              "height": 420
            }
          }
        }
      ]
    }
  ]
}