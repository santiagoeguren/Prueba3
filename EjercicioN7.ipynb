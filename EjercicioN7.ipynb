{
  "nbformat": 4,
  "nbformat_minor": 0,
  "metadata": {
    "colab": {
      "name": "EjercicioN7.ipynb",
      "provenance": [],
      "authorship_tag": "ABX9TyMT/I78UyrdlhUxs46ORuN7",
      "include_colab_link": true
    },
    "kernelspec": {
      "name": "ir",
      "display_name": "R"
    }
  },
  "cells": [
    {
      "cell_type": "markdown",
      "metadata": {
        "id": "view-in-github",
        "colab_type": "text"
      },
      "source": [
        "<a href=\"https://colab.research.google.com/github/santiagoeguren/Prueba3/blob/main/EjercicioN7.ipynb\" target=\"_parent\"><img src=\"https://colab.research.google.com/assets/colab-badge.svg\" alt=\"Open In Colab\"/></a>"
      ]
    },
    {
      "cell_type": "markdown",
      "metadata": {
        "id": "AfBQ2bjXu_sh"
      },
      "source": [
        "**Ejercicio Nº7:** La variable aleatoria X representa el tiempo de carga para un camión en el muelle de Buenos Aires  y sigue dicha distribución exponencial.  Si la media, o promedio, del tiempo de carga es 15 minutos. Calcule:"
      ]
    },
    {
      "cell_type": "markdown",
      "metadata": {
        "id": "S7zg9CEwu_SJ"
      },
      "source": [
        "1.La probabilidad de que el camión se descargue en menos de 6 minutos"
      ]
    },
    {
      "cell_type": "code",
      "metadata": {
        "colab": {
          "base_uri": "https://localhost:8080/",
          "height": 34
        },
        "id": "bFZYwpCKsLs4",
        "outputId": "b96963eb-71fd-4010-fb4c-8c2039dbfd7f"
      },
      "source": [
        "#------------------------\n",
        "pexp(6,1/15)\n"
      ],
      "execution_count": null,
      "outputs": [
        {
          "output_type": "display_data",
          "data": {
            "text/plain": [
              "[1] 0.32968"
            ],
            "text/latex": "0.329679953964361",
            "text/markdown": "0.329679953964361",
            "text/html": [
              "0.329679953964361"
            ]
          },
          "metadata": {
            "tags": []
          }
        }
      ]
    },
    {
      "cell_type": "markdown",
      "metadata": {
        "id": "-xP0xPznu_h3"
      },
      "source": [
        "2.La probabilidad de que se descargue entre 16 y 18 minutos"
      ]
    },
    {
      "cell_type": "code",
      "metadata": {
        "colab": {
          "base_uri": "https://localhost:8080/",
          "height": 34
        },
        "id": "kK2rQ9o7vhTx",
        "outputId": "446ef58e-3cbf-482a-9134-8a7a862f903c"
      },
      "source": [
        "pexp(18,1/15)-pexp(16,1/15)"
      ],
      "execution_count": null,
      "outputs": [
        {
          "output_type": "display_data",
          "data": {
            "text/plain": [
              "[1] 0.04295957"
            ],
            "text/latex": "0.0429595749532103",
            "text/markdown": "0.0429595749532103",
            "text/html": [
              "0.0429595749532103"
            ]
          },
          "metadata": {
            "tags": []
          }
        }
      ]
    }
  ]
}