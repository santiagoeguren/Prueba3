{
  "nbformat": 4,
  "nbformat_minor": 0,
  "metadata": {
    "colab": {
      "name": "borrar.ipynb",
      "provenance": [],
      "authorship_tag": "ABX9TyMUHoJMypCRAP7VqO+HQR1E",
      "include_colab_link": true
    },
    "kernelspec": {
      "name": "ir",
      "display_name": "R"
    }
  },
  "cells": [
    {
      "cell_type": "markdown",
      "metadata": {
        "id": "view-in-github",
        "colab_type": "text"
      },
      "source": [
        "<a href=\"https://colab.research.google.com/github/santiagoeguren/Prueba3/blob/main/borrar.ipynb\" target=\"_parent\"><img src=\"https://colab.research.google.com/assets/colab-badge.svg\" alt=\"Open In Colab\"/></a>"
      ]
    },
    {
      "cell_type": "markdown",
      "metadata": {
        "id": "xJBYqwVdOqzN"
      },
      "source": [
        "Ejercicio Nº1. En una empresa se evalúa la cantidad de reclamos por tardanza en el envío de los productos. Se requiere analizar la frecuencia de ocurrencia de los reclamos. Para ello se tomó una muestra de 32 envíos."
      ]
    },
    {
      "cell_type": "code",
      "metadata": {
        "id": "jaOPetETOAkZ"
      },
      "source": [
        "muestra=c(\"a tiempo\", \"retraso\",\"a tiempo\",\"a tiempo\",\"a tiempo\",\"a tiempo\", \"retraso\",\n",
        "         \"retraso\",\"a tiempo\", \"retraso\",\"a tiempo\",\"a tiempo\",\"a tiempo\",\"a tiempo\",\n",
        "         \"retraso\",\"retraso\",\"a tiempo\", \"retraso\",\"a tiempo\",\"a tiempo\", \"retraso\",\n",
        "         \"a tiempo\",\"a tiempo\",\"a tiempo\",\"a tiempo\",\"a tiempo\",\"a tiempo\",\"retraso\",\n",
        "         \"a tiempo\",\"a tiempo\",\"retraso\",\"a tiempo\")"
      ],
      "execution_count": 1,
      "outputs": []
    },
    {
      "cell_type": "code",
      "metadata": {
        "colab": {
          "base_uri": "https://localhost:8080/",
          "height": 34
        },
        "id": "NmnbY3mLO06q",
        "outputId": "073916fe-6900-4ebb-872c-5bcf8889c4f9"
      },
      "source": [
        "#Contrar \"a tiempo\"\n",
        "\n",
        "a_tiempo=muestra\n",
        "\n",
        "a_tiempo[a_tiempo==\"a tiempo\"]=1   \n",
        "a_tiempo[a_tiempo==\"retraso\"]=0  \n",
        "\n",
        "a_tiempo=as.numeric(a_tiempo)\n",
        "\n",
        "#cantidad a tiempo\n",
        "sum(a_tiempo)"
      ],
      "execution_count": 2,
      "outputs": [
        {
          "output_type": "display_data",
          "data": {
            "text/plain": [
              "[1] 22"
            ],
            "text/latex": "22",
            "text/markdown": "22",
            "text/html": [
              "22"
            ]
          },
          "metadata": {
            "tags": []
          }
        }
      ]
    }
  ]
}