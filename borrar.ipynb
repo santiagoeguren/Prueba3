{
  "nbformat": 4,
  "nbformat_minor": 0,
  "metadata": {
    "colab": {
      "name": "borrar.ipynb",
      "provenance": [],
      "authorship_tag": "ABX9TyPg4ZQ1RdgCk3AF9PsUFLVT",
      "include_colab_link": true
    },
    "kernelspec": {
      "name": "ir",
      "display_name": "R"
    }
  },
  "cells": [
    {
      "cell_type": "markdown",
      "metadata": {
        "id": "view-in-github",
        "colab_type": "text"
      },
      "source": [
        "<a href=\"https://colab.research.google.com/github/santiagoeguren/Prueba3/blob/main/borrar.ipynb\" target=\"_parent\"><img src=\"https://colab.research.google.com/assets/colab-badge.svg\" alt=\"Open In Colab\"/></a>"
      ]
    },
    {
      "cell_type": "code",
      "metadata": {
        "id": "jaOPetETOAkZ"
      },
      "source": [
        "muestra=c(\"a tiempo\", \"retraso\",\"a tiempo\",\"a tiempo\",\"a tiempo\",\"a tiempo\", \"retraso\",\n",
        "         \"retraso\",\"a tiempo\", \"retraso\",\"a tiempo\",\"a tiempo\",\"a tiempo\",\"a tiempo\",\n",
        "         \"retraso\",\"retraso\",\"a tiempo\", \"retraso\",\"a tiempo\",\"a tiempo\", \"retraso\",\n",
        "         \"a tiempo\",\"a tiempo\",\"a tiempo\",\"a tiempo\",\"a tiempo\",\"a tiempo\",\"retraso\",\n",
        "         \"a tiempo\",\"a tiempo\",\"retraso\",\"a tiempo\")"
      ],
      "execution_count": 1,
      "outputs": []
    }
  ]
}